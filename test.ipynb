{
 "cells": [
  {
   "cell_type": "code",
   "execution_count": 38,
   "metadata": {},
   "outputs": [],
   "source": [
    "import random\n",
    "import string #to create a list of letters from A-Z\n",
    "\n",
    "def password_generator():\n",
    "    \n",
    "    #Creation of characters list\n",
    "    #we define the lists that we are going to fill\n",
    "    list_up=[]\n",
    "    list_low=[]\n",
    "    list_sym=[]\n",
    "    list_num=[]\n",
    "    #with string, you could retrieve this lists\n",
    "    upper=string.ascii_uppercase#as a string\n",
    "    lower=string.ascii_lowercase\n",
    "    symbols=string.punctuation\n",
    "    numb=string.digits \n",
    "    #Finally it is added to lists\n",
    "    for i in upper:             #to append it to a list\n",
    "        list_up.append(i)\n",
    "    for i in lower:\n",
    "        list_low.append(i)\n",
    "    for i in symbols:\n",
    "        list_sym.append(i)\n",
    "    for i in numb:\n",
    "        list_num\n",
    "    #then all added together\n",
    "    characters=list_low+list_num+list_sym+list_up\n",
    "    characters=str(characters)\n",
    "\n",
    "    #Finally, We will create passwords with 15 random characters\n",
    "    password=[]\n",
    "    for i in range(15):\n",
    "        characters_random=random.choice(characters) #with the random library\n",
    "        password.append(characters_random)\n",
    "    \n",
    "    password=\"\".join(password) #this function is applied to join all the characters in list\n",
    "\n",
    "    return password\n"
   ]
  },
  {
   "cell_type": "code",
   "execution_count": 39,
   "metadata": {},
   "outputs": [],
   "source": [
    "a=password_generator()"
   ]
  },
  {
   "cell_type": "code",
   "execution_count": 40,
   "metadata": {},
   "outputs": [
    {
     "name": "stdout",
     "output_type": "stream",
     "text": [
      ",''' %, 'A'FV'R\n"
     ]
    }
   ],
   "source": [
    "print(a)"
   ]
  },
  {
   "cell_type": "code",
   "execution_count": 17,
   "metadata": {},
   "outputs": [
    {
     "data": {
      "text/plain": [
       "False"
      ]
     },
     "execution_count": 17,
     "metadata": {},
     "output_type": "execute_result"
    }
   ],
   "source": [
    "\n"
   ]
  }
 ],
 "metadata": {
  "interpreter": {
   "hash": "6427edc533c601e30be95e14900854742886c369eb6f1e348dae9d9e18f8bd0d"
  },
  "kernelspec": {
   "display_name": "Python 3.9.7 ('webscraping')",
   "language": "python",
   "name": "python3"
  },
  "language_info": {
   "codemirror_mode": {
    "name": "ipython",
    "version": 3
   },
   "file_extension": ".py",
   "mimetype": "text/x-python",
   "name": "python",
   "nbconvert_exporter": "python",
   "pygments_lexer": "ipython3",
   "version": "3.9.7"
  },
  "orig_nbformat": 4
 },
 "nbformat": 4,
 "nbformat_minor": 2
}
